{
 "cells": [
  {
   "cell_type": "code",
   "execution_count": 1,
   "id": "multiple-chaos",
   "metadata": {},
   "outputs": [],
   "source": [
    "import pandas as pd\n",
    "import re\n",
    "import numpy as np\n",
    "import matplotlib.pyplot as plt\n",
    "%matplotlib inline"
   ]
  },
  {
   "cell_type": "code",
   "execution_count": 2,
   "id": "auburn-marketplace",
   "metadata": {},
   "outputs": [],
   "source": [
    "reviews = pd.read_csv('data/tripadvisor_hotel_reviews.csv')"
   ]
  },
  {
   "cell_type": "code",
   "execution_count": 3,
   "id": "stainless-launch",
   "metadata": {},
   "outputs": [
    {
     "data": {
      "text/html": [
       "<div>\n",
       "<style scoped>\n",
       "    .dataframe tbody tr th:only-of-type {\n",
       "        vertical-align: middle;\n",
       "    }\n",
       "\n",
       "    .dataframe tbody tr th {\n",
       "        vertical-align: top;\n",
       "    }\n",
       "\n",
       "    .dataframe thead th {\n",
       "        text-align: right;\n",
       "    }\n",
       "</style>\n",
       "<table border=\"1\" class=\"dataframe\">\n",
       "  <thead>\n",
       "    <tr style=\"text-align: right;\">\n",
       "      <th></th>\n",
       "      <th>Review</th>\n",
       "      <th>Rating</th>\n",
       "    </tr>\n",
       "  </thead>\n",
       "  <tbody>\n",
       "    <tr>\n",
       "      <th>0</th>\n",
       "      <td>nice hotel expensive parking got good deal sta...</td>\n",
       "      <td>4</td>\n",
       "    </tr>\n",
       "    <tr>\n",
       "      <th>1</th>\n",
       "      <td>ok nothing special charge diamond member hilto...</td>\n",
       "      <td>2</td>\n",
       "    </tr>\n",
       "    <tr>\n",
       "      <th>2</th>\n",
       "      <td>nice rooms not 4* experience hotel monaco seat...</td>\n",
       "      <td>3</td>\n",
       "    </tr>\n",
       "    <tr>\n",
       "      <th>3</th>\n",
       "      <td>unique, great stay, wonderful time hotel monac...</td>\n",
       "      <td>5</td>\n",
       "    </tr>\n",
       "    <tr>\n",
       "      <th>4</th>\n",
       "      <td>great stay great stay, went seahawk game aweso...</td>\n",
       "      <td>5</td>\n",
       "    </tr>\n",
       "  </tbody>\n",
       "</table>\n",
       "</div>"
      ],
      "text/plain": [
       "                                              Review  Rating\n",
       "0  nice hotel expensive parking got good deal sta...       4\n",
       "1  ok nothing special charge diamond member hilto...       2\n",
       "2  nice rooms not 4* experience hotel monaco seat...       3\n",
       "3  unique, great stay, wonderful time hotel monac...       5\n",
       "4  great stay great stay, went seahawk game aweso...       5"
      ]
     },
     "execution_count": 3,
     "metadata": {},
     "output_type": "execute_result"
    }
   ],
   "source": [
    "reviews.head()"
   ]
  },
  {
   "cell_type": "code",
   "execution_count": 4,
   "id": "hollywood-refund",
   "metadata": {},
   "outputs": [
    {
     "name": "stdout",
     "output_type": "stream",
     "text": [
      "<class 'pandas.core.frame.DataFrame'>\n",
      "RangeIndex: 20491 entries, 0 to 20490\n",
      "Data columns (total 2 columns):\n",
      " #   Column  Non-Null Count  Dtype \n",
      "---  ------  --------------  ----- \n",
      " 0   Review  20491 non-null  object\n",
      " 1   Rating  20491 non-null  int64 \n",
      "dtypes: int64(1), object(1)\n",
      "memory usage: 320.3+ KB\n"
     ]
    }
   ],
   "source": [
    "reviews.info()"
   ]
  },
  {
   "cell_type": "code",
   "execution_count": 5,
   "id": "incorporated-civilian",
   "metadata": {},
   "outputs": [
    {
     "name": "stdout",
     "output_type": "stream",
     "text": [
      "Rating\n",
      "5         9054\n",
      "4         6039\n",
      "3         2184\n",
      "2         1793\n",
      "1         1421\n",
      "dtype: int64\n"
     ]
    }
   ],
   "source": [
    "#distribution of ratings\n",
    "ratings_distribution = reviews[['Rating']].value_counts()\n",
    "print(ratings_distribution)"
   ]
  },
  {
   "cell_type": "markdown",
   "id": "fantastic-avenue",
   "metadata": {},
   "source": [
    "### Exploratory Data Analysis"
   ]
  },
  {
   "cell_type": "code",
   "execution_count": 6,
   "id": "greenhouse-zealand",
   "metadata": {},
   "outputs": [
    {
     "data": {
      "image/png": "[encoded data removed]",
      "text/plain": [
       "<Figure size 864x432 with 1 Axes>"
      ]
     },
     "metadata": {
      "needs_background": "light"
     },
     "output_type": "display_data"
    }
   ],
   "source": [
    "#plot of distribution of ratings\n",
    "labels = ratings_distribution.index.get_level_values(0).values\n",
    "distribution = ratings_distribution.values\n",
    "\n",
    "x = np.arange(len(labels))\n",
    "width = 0.35\n",
    "\n",
    "\n",
    "fig, ax = plt.subplots(figsize=(12,6))\n",
    "rect = ax.bar(x-width/2, distribution, width, label='Ratings Count', color='#008891')\n",
    "\n",
    "# Add text for labels, title and custom x-axis tick labels\n",
    "ax.set_ylabel('Count')\n",
    "ax.set_xlabel('Ratings')\n",
    "ax.set_title('Rating Distribution')\n",
    "ax.set_xticks(x-0.18)\n",
    "ax.set_xticklabels(labels)\n",
    "ax.legend()\n",
    "\n",
    "def autolabel(rects):\n",
    "    for rect in rects:\n",
    "        height = rect.get_height()\n",
    "        ax.annotate('{}'.format(height),\n",
    "                    xy=(rect.get_x() + rect.get_width() / 2, height),\n",
    "                    xytext=(0, 3),  \n",
    "                    textcoords=\"offset points\",\n",
    "                    ha='center', va='bottom')\n",
    "\n",
    "\n",
    "autolabel(rect)\n",
    "fig.savefig('plots/Ratings-Distribution.png', facecolor='w')\n",
    "fig.tight_layout()\n",
    "plt.show()"
   ]
  },
  {
   "cell_type": "markdown",
   "id": "demographic-marker",
   "metadata": {},
   "source": [
    "---------------\n",
    "### Discretize the ratings variable into bins to adjust the imbalanced class distribution issue  \n",
    "\n",
    "### Pre-processing Reviews\n",
    "----------------"
   ]
  },
  {
   "cell_type": "code",
   "execution_count": 7,
   "id": "headed-provider",
   "metadata": {},
   "outputs": [],
   "source": [
    "regex = 'https|<|>|=|;|:|\\'|!|@|\\/|#|$|%|\\^|&|\\*|\\[|\\]|\\.|-|_|\\d+|\\+|\\?|Û|¢|\\(|\\)|\\||,'"
   ]
  },
  {
   "cell_type": "code",
   "execution_count": 8,
   "id": "golden-beast",
   "metadata": {},
   "outputs": [],
   "source": [
    "def discretize(rating):\n",
    "    \"\"\"\n",
    "    This function takes in a rating and based on the following scheme\n",
    "    it puts it into 3 bins:\n",
    "    1-2-3: Needs Improvement\n",
    "    4: Good\n",
    "    5: Amazing\n",
    "    \"\"\"\n",
    "    if rating<=3:\n",
    "        rating='Needs Improvement'\n",
    "    elif rating==4:\n",
    "        rating='Good'\n",
    "    elif rating==5:\n",
    "        rating='Amazing'\n",
    "    return rating\n",
    "\n",
    "\n",
    "def remove_patterns(review, regex='\\d+'):\n",
    "    \"\"\"\n",
    "    Given a review remove patterns which are unnecessary and do not add meaning to the review.\n",
    "    \"\"\"\n",
    "    review = re.sub(regex, ' ', str(review))\n",
    "    review = re.sub(' +', ' ', str(review))\n",
    "    review = review.lstrip().rstrip()\n",
    "\n",
    "    review = review.lower()\n",
    "\n",
    "    return review\n",
    "\n",
    "\n",
    "def clean_data(dataframe, cols=['Review', 'Rating']):\n",
    "    \"\"\"\n",
    "    Take in the dataframe remove unneded patterns by applying remove_patterns on the review column and return the dataframe.\n",
    "    \"\"\"\n",
    "    dataframe_2 = dataframe.copy()\n",
    "    \n",
    "    for col in cols:\n",
    "        if col == 'Review':\n",
    "            dataframe_2[col] = dataframe_2[col].apply(remove_patterns, regex=regex)\n",
    "        if col == 'Rating':\n",
    "            dataframe_2[col] = dataframe_2[col].apply(discretize)\n",
    "    \n",
    "    return dataframe_2"
   ]
  },
  {
   "cell_type": "code",
   "execution_count": 9,
   "id": "secondary-yeast",
   "metadata": {},
   "outputs": [],
   "source": [
    "reviews = clean_data(reviews)"
   ]
  },
  {
   "cell_type": "markdown",
   "id": "linear-carolina",
   "metadata": {},
   "source": [
    "### Plot of class distribution after discretization"
   ]
  },
  {
   "cell_type": "code",
   "execution_count": 10,
   "id": "plain-geometry",
   "metadata": {},
   "outputs": [],
   "source": [
    "discrete_ratings_distribution = reviews[['Rating']].value_counts()"
   ]
  },
  {
   "cell_type": "code",
   "execution_count": 11,
   "id": "informed-programmer",
   "metadata": {},
   "outputs": [
    {
     "data": {
      "image/png": "[encoded data removed]",
      "text/plain": [
       "<Figure size 864x432 with 1 Axes>"
      ]
     },
     "metadata": {
      "needs_background": "light"
     },
     "output_type": "display_data"
    }
   ],
   "source": [
    "#plot of distribution of ratings\n",
    "labels = discrete_ratings_distribution.index.get_level_values(0).values\n",
    "distribution = discrete_ratings_distribution.values\n",
    "\n",
    "x = np.arange(len(labels))\n",
    "width = 0.35\n",
    "\n",
    "\n",
    "fig, ax = plt.subplots(figsize=(12,6))\n",
    "rect = ax.bar(x-width/2, distribution, width, label='Ratings Count', color='#008891')\n",
    "\n",
    "# Add text for labels, title and custom x-axis tick labels\n",
    "ax.set_ylabel('Count')\n",
    "ax.set_xlabel('Binned Ratings')\n",
    "ax.set_title('Discrete Rating Distribution')\n",
    "ax.set_xticks(x-0.18)\n",
    "ax.set_xticklabels(labels)\n",
    "ax.legend()\n",
    "\n",
    "def autolabel(rects):\n",
    "    for rect in rects:\n",
    "        height = rect.get_height()\n",
    "        ax.annotate('{}'.format(height),\n",
    "                    xy=(rect.get_x() + rect.get_width() / 2, height),\n",
    "                    xytext=(0, 3),  \n",
    "                    textcoords=\"offset points\",\n",
    "                    ha='center', va='bottom')\n",
    "\n",
    "\n",
    "autolabel(rect)\n",
    "fig.savefig('plots/Binned-Ratings-Distribution.png', facecolor='w')\n",
    "fig.tight_layout()\n",
    "plt.show()"
   ]
  },
  {
   "cell_type": "code",
   "execution_count": 12,
   "id": "distinct-accent",
   "metadata": {},
   "outputs": [
    {
     "data": {
      "text/html": [
       "<div>\n",
       "<style scoped>\n",
       "    .dataframe tbody tr th:only-of-type {\n",
       "        vertical-align: middle;\n",
       "    }\n",
       "\n",
       "    .dataframe tbody tr th {\n",
       "        vertical-align: top;\n",
       "    }\n",
       "\n",
       "    .dataframe thead th {\n",
       "        text-align: right;\n",
       "    }\n",
       "</style>\n",
       "<table border=\"1\" class=\"dataframe\">\n",
       "  <thead>\n",
       "    <tr style=\"text-align: right;\">\n",
       "      <th></th>\n",
       "      <th>Review</th>\n",
       "      <th>Rating</th>\n",
       "    </tr>\n",
       "  </thead>\n",
       "  <tbody>\n",
       "    <tr>\n",
       "      <th>0</th>\n",
       "      <td>nice hotel expensive parking got good deal sta...</td>\n",
       "      <td>Good</td>\n",
       "    </tr>\n",
       "    <tr>\n",
       "      <th>1</th>\n",
       "      <td>ok nothing special charge diamond member hilto...</td>\n",
       "      <td>Needs Improvement</td>\n",
       "    </tr>\n",
       "    <tr>\n",
       "      <th>2</th>\n",
       "      <td>nice rooms not experience hotel monaco seattle...</td>\n",
       "      <td>Needs Improvement</td>\n",
       "    </tr>\n",
       "    <tr>\n",
       "      <th>3</th>\n",
       "      <td>unique great stay wonderful time hotel monaco ...</td>\n",
       "      <td>Amazing</td>\n",
       "    </tr>\n",
       "    <tr>\n",
       "      <th>4</th>\n",
       "      <td>great stay great stay went seahawk game awesom...</td>\n",
       "      <td>Amazing</td>\n",
       "    </tr>\n",
       "  </tbody>\n",
       "</table>\n",
       "</div>"
      ],
      "text/plain": [
       "                                              Review             Rating\n",
       "0  nice hotel expensive parking got good deal sta...               Good\n",
       "1  ok nothing special charge diamond member hilto...  Needs Improvement\n",
       "2  nice rooms not experience hotel monaco seattle...  Needs Improvement\n",
       "3  unique great stay wonderful time hotel monaco ...            Amazing\n",
       "4  great stay great stay went seahawk game awesom...            Amazing"
      ]
     },
     "execution_count": 12,
     "metadata": {},
     "output_type": "execute_result"
    }
   ],
   "source": [
    "reviews.head()"
   ]
  },
  {
   "cell_type": "markdown",
   "id": "molecular-canon",
   "metadata": {},
   "source": [
    "### Feature Engineering"
   ]
  },
  {
   "cell_type": "code",
   "execution_count": 13,
   "id": "turned-bolivia",
   "metadata": {},
   "outputs": [],
   "source": [
    "import nltk\n",
    "import string\n",
    "from nltk.corpus import stopwords\n",
    "from nltk.tokenize import word_tokenize\n",
    "from nltk.stem.wordnet import WordNetLemmatizer\n",
    "from nltk.stem.porter import PorterStemmer"
   ]
  },
  {
   "cell_type": "code",
   "execution_count": 14,
   "id": "trying-tissue",
   "metadata": {},
   "outputs": [],
   "source": [
    "def process_reviews(review):\n",
    "    stopwords_english = stopwords.words('english')\n",
    "    lemmatizer = WordNetLemmatizer()\n",
    "#     stemmer = PorterStemmer()\n",
    "#     snowball_stemmer = nltk.stem.SnowballStemmer('english')\n",
    "    \n",
    "    tokens = word_tokenize(review.lower())\n",
    "    clean_review = []\n",
    "    for word in tokens:\n",
    "        if (word not in stopwords_english and \n",
    "           word not in string.punctuation):\n",
    "            lemmatized_word = lemmatizer.lemmatize(word)            \n",
    "#             stemmed_word = stemmer.stem(word)\n",
    "            clean_review.append(lemmatized_word)\n",
    "    return ' '.join(clean_review)"
   ]
  },
  {
   "cell_type": "code",
   "execution_count": 15,
   "id": "isolated-biography",
   "metadata": {},
   "outputs": [],
   "source": [
    "reviews['Review'] = reviews['Review'].apply(process_reviews)"
   ]
  },
  {
   "cell_type": "code",
   "execution_count": 16,
   "id": "raising-harvey",
   "metadata": {},
   "outputs": [
    {
     "data": {
      "text/html": [
       "<div>\n",
       "<style scoped>\n",
       "    .dataframe tbody tr th:only-of-type {\n",
       "        vertical-align: middle;\n",
       "    }\n",
       "\n",
       "    .dataframe tbody tr th {\n",
       "        vertical-align: top;\n",
       "    }\n",
       "\n",
       "    .dataframe thead th {\n",
       "        text-align: right;\n",
       "    }\n",
       "</style>\n",
       "<table border=\"1\" class=\"dataframe\">\n",
       "  <thead>\n",
       "    <tr style=\"text-align: right;\">\n",
       "      <th></th>\n",
       "      <th>Review</th>\n",
       "      <th>Rating</th>\n",
       "    </tr>\n",
       "  </thead>\n",
       "  <tbody>\n",
       "    <tr>\n",
       "      <th>0</th>\n",
       "      <td>nice hotel expensive parking got good deal sta...</td>\n",
       "      <td>Good</td>\n",
       "    </tr>\n",
       "    <tr>\n",
       "      <th>1</th>\n",
       "      <td>ok nothing special charge diamond member hilto...</td>\n",
       "      <td>Needs Improvement</td>\n",
       "    </tr>\n",
       "    <tr>\n",
       "      <th>2</th>\n",
       "      <td>nice room experience hotel monaco seattle good...</td>\n",
       "      <td>Needs Improvement</td>\n",
       "    </tr>\n",
       "    <tr>\n",
       "      <th>3</th>\n",
       "      <td>unique great stay wonderful time hotel monaco ...</td>\n",
       "      <td>Amazing</td>\n",
       "    </tr>\n",
       "    <tr>\n",
       "      <th>4</th>\n",
       "      <td>great stay great stay went seahawk game awesom...</td>\n",
       "      <td>Amazing</td>\n",
       "    </tr>\n",
       "  </tbody>\n",
       "</table>\n",
       "</div>"
      ],
      "text/plain": [
       "                                              Review             Rating\n",
       "0  nice hotel expensive parking got good deal sta...               Good\n",
       "1  ok nothing special charge diamond member hilto...  Needs Improvement\n",
       "2  nice room experience hotel monaco seattle good...  Needs Improvement\n",
       "3  unique great stay wonderful time hotel monaco ...            Amazing\n",
       "4  great stay great stay went seahawk game awesom...            Amazing"
      ]
     },
     "execution_count": 16,
     "metadata": {},
     "output_type": "execute_result"
    }
   ],
   "source": [
    "reviews.head()"
   ]
  },
  {
   "cell_type": "code",
   "execution_count": 17,
   "id": "local-stroke",
   "metadata": {},
   "outputs": [],
   "source": [
    "import joblib\n",
    "import random\n",
    "from sklearn.feature_extraction.text import TfidfVectorizer \n",
    "from sklearn.preprocessing import LabelEncoder"
   ]
  },
  {
   "cell_type": "markdown",
   "id": "necessary-connecticut",
   "metadata": {},
   "source": [
    "- uncomment when training a new vectorizer"
   ]
  },
  {
   "cell_type": "code",
   "execution_count": 18,
   "id": "alternative-trinidad",
   "metadata": {},
   "outputs": [],
   "source": [
    "# vectorizer = TfidfVectorizer()\n",
    "# vectorizer_model = vectorizer.fit(reviews['Review'])"
   ]
  },
  {
   "cell_type": "code",
   "execution_count": 19,
   "id": "canadian-hebrew",
   "metadata": {},
   "outputs": [],
   "source": [
    "#save the vectorizer\n",
    "# joblib.dump(vectorizer_model, 'saved_models/vectorizer.pkl')"
   ]
  },
  {
   "cell_type": "code",
   "execution_count": 86,
   "id": "representative-ceiling",
   "metadata": {},
   "outputs": [],
   "source": [
    "def get_xy(dataframe, vectorizer='saved_models/vectorizer.pkl', label_encoder='saved_models/rating_encoder.pkl'):\n",
    "    \"\"\"\n",
    "    Vectorize Review \n",
    "    Label Encode Ratings\n",
    "    Get dependent and independent variables.\n",
    "    \"\"\"\n",
    "    #encode ratings\n",
    "#     encoder = LabelEncoder()\n",
    "#     encoder.fit(dataframe['Rating'])\n",
    "#     joblib.dump(encoder, label_encoder)\n",
    "    \n",
    "    encoder = joblib.load(label_encoder)\n",
    "    dataframe['Rating'] = encoder.transform(dataframe['Rating'])\n",
    "    \n",
    "    #vectorize reviews\n",
    "    vectorizer = joblib.load(vectorizer)\n",
    "    vectorizer_transform = vectorizer.transform(dataframe['Review'])\n",
    "    \n",
    "    features = vectorizer.get_feature_names()\n",
    "    print('Total number of features after vectorizing: {}'.format(len(features)))\n",
    "    \n",
    "    #create a dataframe of vectorized reviews\n",
    "    vectorized_reviews = pd.DataFrame(data = vectorizer_transform.toarray(), index=dataframe.index, columns=vectorizer.get_feature_names())\n",
    "    \n",
    "    if len(features)>25000:\n",
    "        #select a random subset of defined features\n",
    "        random.seed(10)\n",
    "        feature_subset = random.sample(range(0, len(vectorizer.get_feature_names())), 25000)    \n",
    "        x = vectorized_reviews.iloc[:, feature_subset]\n",
    "        y = dataframe['Rating']\n",
    "    else:\n",
    "        x = vectorized_reviews\n",
    "        y = dataframe['Rating']\n",
    "    \n",
    "    return x, y"
   ]
  },
  {
   "cell_type": "code",
   "execution_count": 87,
   "id": "negative-frederick",
   "metadata": {},
   "outputs": [
    {
     "name": "stdout",
     "output_type": "stream",
     "text": [
      "Total number of features after vectorizing: 44842\n"
     ]
    }
   ],
   "source": [
    "x, y = get_xy(reviews)"
   ]
  },
  {
   "cell_type": "markdown",
   "id": "signal-longer",
   "metadata": {},
   "source": [
    "### Feature Selection"
   ]
  },
  {
   "cell_type": "code",
   "execution_count": 29,
   "id": "civil-sister",
   "metadata": {},
   "outputs": [],
   "source": [
    "# import sklearn\n",
    "# nltk.__version__"
   ]
  },
  {
   "cell_type": "code",
   "execution_count": 89,
   "id": "surprised-tsunami",
   "metadata": {},
   "outputs": [],
   "source": [
    "from sklearn.model_selection import train_test_split\n",
    "from sklearn.svm import LinearSVC\n",
    "from sklearn.metrics import accuracy_score\n",
    "from sklearn.feature_selection import SelectFromModel, VarianceThreshold"
   ]
  },
  {
   "cell_type": "code",
   "execution_count": 38,
   "id": "formed-calcium",
   "metadata": {},
   "outputs": [],
   "source": [
    "def split_data(x, y, test_size=0.25, random_state=123):\n",
    "    \"\"\"\n",
    "    Create train test splits.\n",
    "    \"\"\"\n",
    "    x_train, x_test, y_train, y_test = train_test_split(x, y,\n",
    "                                                   test_size=0.25,\n",
    "                                                   random_state=123)\n",
    "    return x_train, x_test, y_train, y_test"
   ]
  },
  {
   "cell_type": "code",
   "execution_count": 100,
   "id": "differential-receptor",
   "metadata": {},
   "outputs": [],
   "source": [
    "x_train, x_test, y_train, y_test = split_data(x, y, test_size=0.25, random_state=123)"
   ]
  },
  {
   "cell_type": "markdown",
   "id": "royal-mining",
   "metadata": {},
   "source": [
    "### Variance Threshold Feature Selection"
   ]
  },
  {
   "cell_type": "code",
   "execution_count": 101,
   "id": "stable-roman",
   "metadata": {},
   "outputs": [],
   "source": [
    "# vt_selector = VarianceThreshold(threshold=(0.90*(1-0.90)))\n",
    "# vt_selector.fit(round(x))\n",
    "# # vt_selected_features = vt_selector.transform(x)\n",
    "# x_vt_select = x[vt_selector.get_support()]"
   ]
  },
  {
   "cell_type": "markdown",
   "id": "efficient-measure",
   "metadata": {},
   "source": [
    "### SVC Feature Selection"
   ]
  },
  {
   "cell_type": "code",
   "execution_count": 46,
   "id": "unnecessary-alliance",
   "metadata": {},
   "outputs": [],
   "source": [
    "def train_feature_selector(x_train, x_test, y_train, y_test, model_path='saved_models/feature_selector.pkl'):\n",
    "    \"\"\"Train the feature selector and save the model\"\"\"\n",
    "    slacks = [0.01,0.02,0.03,0.04,0.05,0.06,0.07,0.08,0.09,0.1,0.2,0.3,0.4,0.5,1,2,3,4,5,6,7,8,9]\n",
    "    \n",
    "    score = dict()\n",
    "    for slack in slacks:\n",
    "        svm = LinearSVC(C=slack, random_state=0, penalty='l1', dual=False, multi_class='ovr')\n",
    "        svm_fit = svm.fit(x_train, y_train)\n",
    "\n",
    "        svm_predict = svm_fit.predict(x_test)\n",
    "\n",
    "        score[slack] = accuracy_score(y_test, svm_predict)\n",
    "    \n",
    "    fig, ax = plt.subplots(figsize=(12,5))\n",
    "    ax = plt.plot(slacks, [score for score in score.values()])\n",
    "    plt.ylabel('Accuracy Score')\n",
    "    plt.xlabel('Slack - C')\n",
    "    plt.show()\n",
    "    fig.savefig('plots/SVC_FeatureSelection.png')\n",
    "    \n",
    "    #retrain the model based on the slack that produces the highest accuracy score on the test set\n",
    "    selected_slack = max(score, key=score.get)\n",
    "    svm = LinearSVC(C=selected_slack, random_state=0, penalty='l1', dual=False, multi_class='ovr').fit(x_train, y_train)\n",
    "    feature_selection_model = SelectFromModel(svm, prefit=True)\n",
    "    \n",
    "    #save the model\n",
    "    joblib.dump(feature_selection_model, model_path)\n",
    "    \n",
    "    #print the slack with the highest test accuracy\n",
    "    print('Slack with the highest test accuracy: {}'.format(max(score, key=score.get)))"
   ]
  },
  {
   "cell_type": "markdown",
   "id": "better-estimate",
   "metadata": {},
   "source": [
    "- Run the cell below only when you train a new feature selector"
   ]
  },
  {
   "cell_type": "code",
   "execution_count": 47,
   "id": "modern-third",
   "metadata": {},
   "outputs": [
    {
     "data": {
      "image/png": "[encoded data removed]",
      "text/plain": [
       "<Figure size 864x360 with 1 Axes>"
      ]
     },
     "metadata": {
      "needs_background": "light"
     },
     "output_type": "display_data"
    },
    {
     "name": "stdout",
     "output_type": "stream",
     "text": [
      "Slack with the highest test accuracy: 1\n"
     ]
    }
   ],
   "source": [
    "train_feature_selector(x_train, x_test, y_train, y_test, model_path='saved_models/feature_selector.pkl')"
   ]
  },
  {
   "cell_type": "code",
   "execution_count": 51,
   "id": "returning-webmaster",
   "metadata": {},
   "outputs": [],
   "source": [
    "def feature_selection_svc(x_train, x_test, model_path='saved_models/feature_selector.pkl'):\n",
    "    \"\"\"This function selects features based on a LinearSVC\"\"\"    \n",
    "    #load the feature selection model\n",
    "    feature_selection_model = joblib.load(model_path)\n",
    "    \n",
    "    #get selected features\n",
    "    feature_set = x_train.columns[feature_selection_model.get_support()]\n",
    "    \n",
    "    print('Total Features: {}'.format(len(x_train.columns)))\n",
    "    print('Selected Features: {}'.format(len(feature_set)))\n",
    "    print('Removed Features: {}'.format(len(x_train.columns)-len(feature_set)))\n",
    "    \n",
    "    #select features in x_train and x_test\n",
    "    x_train = x_train[feature_set]\n",
    "    x_test = x_test[feature_set]\n",
    "    \n",
    "    return feature_set, x_train, x_test"
   ]
  },
  {
   "cell_type": "code",
   "execution_count": 57,
   "id": "swiss-convenience",
   "metadata": {},
   "outputs": [
    {
     "name": "stdout",
     "output_type": "stream",
     "text": [
      "Total Features: 15000\n",
      "Selected Features: 2304\n",
      "Removed Features: 12696\n"
     ]
    }
   ],
   "source": [
    "feature_set, x_train, x_test = feature_selection_svc(x_train, x_test, model_path='saved_models/feature_selector.pkl')"
   ]
  },
  {
   "cell_type": "markdown",
   "id": "gross-anchor",
   "metadata": {},
   "source": [
    "### Models"
   ]
  },
  {
   "cell_type": "code",
   "execution_count": 84,
   "id": "dying-peace",
   "metadata": {},
   "outputs": [],
   "source": [
    "from sklearn.multiclass import OneVsRestClassifier\n",
    "from sklearn.ensemble import GradientBoostingClassifier, RandomForestClassifier, BaggingClassifier\n",
    "from sklearn.linear_model import LogisticRegression"
   ]
  },
  {
   "cell_type": "code",
   "execution_count": 75,
   "id": "crazy-appointment",
   "metadata": {},
   "outputs": [
    {
     "name": "stdout",
     "output_type": "stream",
     "text": [
      "Depth  6 Accuracy:  0.6012102283818075\n",
      "Depth  7 Accuracy:  0.5976966621120438\n",
      "Depth  8 Accuracy:  0.6037478040210814\n",
      "Depth  9 Accuracy:  0.6037478040210814\n",
      "Depth  10 Accuracy:  0.6070661721647472\n",
      "Depth  11 Accuracy:  0.6027718133905915\n",
      "Depth  12 Accuracy:  0.6078469646691391\n",
      "Depth  13 Accuracy:  0.6035526058949834\n",
      "Depth  14 Accuracy:  0.6092133515518251\n"
     ]
    }
   ],
   "source": [
    "accuracy = {}\n",
    "for depth in range(6,15):\n",
    "    model = GradientBoostingClassifier(max_depth=depth, random_state=10, max_features=round(len(feature_set)*0.10))\n",
    "    model.fit(x_train, y_train)\n",
    "    \n",
    "    y_pred = model.predict(x_test)\n",
    "    \n",
    "    accuracy[depth] = accuracy_score(y_pred, y_test) \n",
    "    print('Depth ',depth,'Accuracy: ',accuracy[depth])"
   ]
  },
  {
   "cell_type": "code",
   "execution_count": 78,
   "id": "insured-annotation",
   "metadata": {},
   "outputs": [
    {
     "name": "stdout",
     "output_type": "stream",
     "text": [
      "Depth  10 Accuracy:  0.517860628537966\n",
      "Depth  11 Accuracy:  0.5270349404645716\n",
      "Depth  12 Accuracy:  0.5305485067343354\n",
      "Depth  13 Accuracy:  0.5393324224087449\n",
      "Depth  14 Accuracy:  0.5446027718133906\n",
      "Depth  15 Accuracy:  0.5471403474526645\n",
      "Depth  16 Accuracy:  0.5494827249658403\n",
      "Depth  17 Accuracy:  0.5541674799921921\n",
      "Depth  18 Accuracy:  0.5590474331446418\n",
      "Depth  19 Accuracy:  0.5645129806753855\n",
      "Depth  20 Accuracy:  0.5695881319539332\n",
      "Depth  21 Accuracy:  0.574077688854187\n",
      "Depth  22 Accuracy:  0.5766152644934609\n",
      "Depth  23 Accuracy:  0.574468085106383\n",
      "Depth  24 Accuracy:  0.5795432363849307\n"
     ]
    }
   ],
   "source": [
    "rf_accuracy = {}\n",
    "for depth in range(10,25):\n",
    "    rf_model = RandomForestClassifier(max_depth=depth, random_state=10)#, max_features=round(len(feature_set)*0.10))\n",
    "    rf_model.fit(x_train, y_train)\n",
    "    \n",
    "    y_pred = rf_model.predict(x_test)\n",
    "    \n",
    "    rf_accuracy[depth] = accuracy_score(y_pred, y_test) \n",
    "    print('Depth ',depth,'Accuracy: ',rf_accuracy[depth])"
   ]
  },
  {
   "cell_type": "code",
   "execution_count": 102,
   "id": "proved-edmonton",
   "metadata": {},
   "outputs": [
    {
     "name": "stdout",
     "output_type": "stream",
     "text": [
      "Accuracy:  0.5660745656841695\n"
     ]
    }
   ],
   "source": [
    "rf_model2 = OneVsRestClassifier(RandomForestClassifier(max_depth=24, random_state=10))\n",
    "rf_model2.fit(x_train, y_train)\n",
    "y_pred = rf_model2.predict(x_test)\n",
    "print('Accuracy: ',accuracy_score(y_pred, y_test))"
   ]
  },
  {
   "cell_type": "code",
   "execution_count": 83,
   "id": "dependent-antigua",
   "metadata": {},
   "outputs": [
    {
     "name": "stdout",
     "output_type": "stream",
     "text": [
      "Accuracy:  0.6326371266835839\n"
     ]
    }
   ],
   "source": [
    "logit_model = OneVsRestClassifier(LogisticRegression(random_state=10)).fit(x_train,y_train)\n",
    "logit_pred = logit_model.predict(x_test)\n",
    "print('Accuracy: ',accuracy_score(logit_pred,y_test))"
   ]
  },
  {
   "cell_type": "code",
   "execution_count": 85,
   "id": "useful-correspondence",
   "metadata": {},
   "outputs": [
    {
     "name": "stdout",
     "output_type": "stream",
     "text": [
      "Accuracy:  0.572906500097599\n"
     ]
    }
   ],
   "source": [
    "bc_model = OneVsRestClassifier(BaggingClassifier(random_state=10)).fit(x_train,y_train)\n",
    "bc_pred = bc_model.predict(x_test)\n",
    "print('Accuracy: ',accuracy_score(bc_pred,y_test))"
   ]
  },
  {
   "cell_type": "code",
   "execution_count": null,
   "id": "ranging-share",
   "metadata": {},
   "outputs": [],
   "source": []
  }
 ],
 "metadata": {
  "kernelspec": {
   "display_name": "Python 3",
   "language": "python",
   "name": "python3"
  },
  "language_info": {
   "codemirror_mode": {
    "name": "ipython",
    "version": 3
   },
   "file_extension": ".py",
   "mimetype": "text/x-python",
   "name": "python",
   "nbconvert_exporter": "python",
   "pygments_lexer": "ipython3",
   "version": "3.7.7"
  }
 },
 "nbformat": 4,
 "nbformat_minor": 5
}
