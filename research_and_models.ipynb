{
 "cells": [
  {
   "cell_type": "code",
   "execution_count": 2,
   "id": "funny-irrigation",
   "metadata": {},
   "outputs": [],
   "source": [
    "import pandas as pd\n",
    "import re\n",
    "import numpy as np\n",
    "import matplotlib.pyplot as plt\n",
    "%matplotlib inline"
   ]
  },
  {
   "cell_type": "code",
   "execution_count": 3,
   "id": "actual-defense",
   "metadata": {},
   "outputs": [],
   "source": [
    "reviews = pd.read_csv('data/tripadvisor_hotel_reviews.csv')"
   ]
  },
  {
   "cell_type": "code",
   "execution_count": 4,
   "id": "brown-bulgaria",
   "metadata": {},
   "outputs": [
    {
     "data": {
      "text/html": [
       "<div>\n",
       "<style scoped>\n",
       "    .dataframe tbody tr th:only-of-type {\n",
       "        vertical-align: middle;\n",
       "    }\n",
       "\n",
       "    .dataframe tbody tr th {\n",
       "        vertical-align: top;\n",
       "    }\n",
       "\n",
       "    .dataframe thead th {\n",
       "        text-align: right;\n",
       "    }\n",
       "</style>\n",
       "<table border=\"1\" class=\"dataframe\">\n",
       "  <thead>\n",
       "    <tr style=\"text-align: right;\">\n",
       "      <th></th>\n",
       "      <th>Review</th>\n",
       "      <th>Rating</th>\n",
       "    </tr>\n",
       "  </thead>\n",
       "  <tbody>\n",
       "    <tr>\n",
       "      <th>0</th>\n",
       "      <td>nice hotel expensive parking got good deal sta...</td>\n",
       "      <td>4</td>\n",
       "    </tr>\n",
       "    <tr>\n",
       "      <th>1</th>\n",
       "      <td>ok nothing special charge diamond member hilto...</td>\n",
       "      <td>2</td>\n",
       "    </tr>\n",
       "    <tr>\n",
       "      <th>2</th>\n",
       "      <td>nice rooms not 4* experience hotel monaco seat...</td>\n",
       "      <td>3</td>\n",
       "    </tr>\n",
       "    <tr>\n",
       "      <th>3</th>\n",
       "      <td>unique, great stay, wonderful time hotel monac...</td>\n",
       "      <td>5</td>\n",
       "    </tr>\n",
       "    <tr>\n",
       "      <th>4</th>\n",
       "      <td>great stay great stay, went seahawk game aweso...</td>\n",
       "      <td>5</td>\n",
       "    </tr>\n",
       "  </tbody>\n",
       "</table>\n",
       "</div>"
      ],
      "text/plain": [
       "                                              Review  Rating\n",
       "0  nice hotel expensive parking got good deal sta...       4\n",
       "1  ok nothing special charge diamond member hilto...       2\n",
       "2  nice rooms not 4* experience hotel monaco seat...       3\n",
       "3  unique, great stay, wonderful time hotel monac...       5\n",
       "4  great stay great stay, went seahawk game aweso...       5"
      ]
     },
     "execution_count": 4,
     "metadata": {},
     "output_type": "execute_result"
    }
   ],
   "source": [
    "reviews.head()"
   ]
  },
  {
   "cell_type": "code",
   "execution_count": 5,
   "id": "traditional-render",
   "metadata": {},
   "outputs": [
    {
     "name": "stdout",
     "output_type": "stream",
     "text": [
      "<class 'pandas.core.frame.DataFrame'>\n",
      "RangeIndex: 20491 entries, 0 to 20490\n",
      "Data columns (total 2 columns):\n",
      " #   Column  Non-Null Count  Dtype \n",
      "---  ------  --------------  ----- \n",
      " 0   Review  20491 non-null  object\n",
      " 1   Rating  20491 non-null  int64 \n",
      "dtypes: int64(1), object(1)\n",
      "memory usage: 320.3+ KB\n"
     ]
    }
   ],
   "source": [
    "reviews.info()"
   ]
  },
  {
   "cell_type": "code",
   "execution_count": 6,
   "id": "competent-malta",
   "metadata": {},
   "outputs": [
    {
     "name": "stdout",
     "output_type": "stream",
     "text": [
      "Rating\n",
      "5         9054\n",
      "4         6039\n",
      "3         2184\n",
      "2         1793\n",
      "1         1421\n",
      "dtype: int64\n"
     ]
    }
   ],
   "source": [
    "#distribution of ratings\n",
    "ratings_distribution = reviews[['Rating']].value_counts()\n",
    "print(ratings_distribution)"
   ]
  },
  {
   "cell_type": "markdown",
   "id": "addressed-seller",
   "metadata": {},
   "source": [
    "### Exploratory Data Analysis"
   ]
  },
  {
   "cell_type": "code",
   "execution_count": 7,
   "id": "fitting-modeling",
   "metadata": {},
   "outputs": [
    {
     "data": {
      "image/png": "[encoded data removed]",
      "text/plain": [
       "<Figure size 864x432 with 1 Axes>"
      ]
     },
     "metadata": {
      "needs_background": "light"
     },
     "output_type": "display_data"
    }
   ],
   "source": [
    "#plot of distribution of ratings\n",
    "labels = ratings_distribution.index.get_level_values(0).values\n",
    "distribution = ratings_distribution.values\n",
    "\n",
    "x = np.arange(len(labels))\n",
    "width = 0.35\n",
    "\n",
    "\n",
    "fig, ax = plt.subplots(figsize=(12,6))\n",
    "rect = ax.bar(x-width/2, distribution, width, label='Ratings Count', color='#008891')\n",
    "\n",
    "# Add text for labels, title and custom x-axis tick labels\n",
    "ax.set_ylabel('Count')\n",
    "ax.set_xlabel('Ratings')\n",
    "ax.set_title('Rating Distribution')\n",
    "ax.set_xticks(x-0.18)\n",
    "ax.set_xticklabels(labels)\n",
    "ax.legend()\n",
    "\n",
    "def autolabel(rects):\n",
    "    for rect in rects:\n",
    "        height = rect.get_height()\n",
    "        ax.annotate('{}'.format(height),\n",
    "                    xy=(rect.get_x() + rect.get_width() / 2, height),\n",
    "                    xytext=(0, 3),  \n",
    "                    textcoords=\"offset points\",\n",
    "                    ha='center', va='bottom')\n",
    "\n",
    "\n",
    "autolabel(rect)\n",
    "fig.savefig('plots/Ratings-Distribution.png', facecolor='w')\n",
    "fig.tight_layout()\n",
    "plt.show()"
   ]
  },
  {
   "cell_type": "markdown",
   "id": "third-material",
   "metadata": {},
   "source": [
    "---------------\n",
    "### Discretize the ratings variable into bins to adjust the imbalanced class distribution issue  \n",
    "\n",
    "### Pre-processing Reviews\n",
    "----------------"
   ]
  },
  {
   "cell_type": "code",
   "execution_count": 8,
   "id": "outstanding-hopkins",
   "metadata": {},
   "outputs": [],
   "source": [
    "regex = 'https|<|>|=|;|:|\\'|!|@|\\/|#|$|%|\\^|&|\\*|\\[|\\]|\\.|-|_|\\d+|\\+|\\?|Û|¢|\\(|\\)|\\||,'"
   ]
  },
  {
   "cell_type": "code",
   "execution_count": 9,
   "id": "legal-overhead",
   "metadata": {},
   "outputs": [],
   "source": [
    "def discretize(rating):\n",
    "    \"\"\"\n",
    "    This function takes in a rating and based on the following scheme\n",
    "    it puts it into 3 bins:\n",
    "    1-2-3: Needs Improvement\n",
    "    4: Good\n",
    "    5: Amazing\n",
    "    \"\"\"\n",
    "    if rating<=3:\n",
    "        rating='Needs Improvement'\n",
    "    elif rating==4:\n",
    "        rating='Good'\n",
    "    elif rating==5:\n",
    "        rating='Amazing'\n",
    "    return rating\n",
    "\n",
    "\n",
    "def remove_patterns(review, regex='\\d+'):\n",
    "    \"\"\"\n",
    "    Given a review remove patterns which are unnecessary and do not add meaning to the review.\n",
    "    \"\"\"\n",
    "    review = re.sub(regex, ' ', str(review))\n",
    "    review = re.sub(' +', ' ', str(review))\n",
    "    review = review.lstrip().rstrip()\n",
    "\n",
    "    review = review.lower()\n",
    "\n",
    "    return review\n",
    "\n",
    "\n",
    "def clean_data(dataframe, cols=['Review', 'Rating']):\n",
    "    \"\"\"\n",
    "    Take in the dataframe remove unneded patterns by applying remove_patterns on the review column and return the dataframe.\n",
    "    \"\"\"\n",
    "    dataframe_2 = dataframe.copy()\n",
    "    \n",
    "    for col in cols:\n",
    "        if col == 'Review':\n",
    "            dataframe_2[col] = dataframe_2[col].apply(remove_patterns, regex=regex)\n",
    "        if col == 'Rating':\n",
    "            dataframe_2[col] = dataframe_2[col].apply(discretize)\n",
    "    \n",
    "    return dataframe_2"
   ]
  },
  {
   "cell_type": "code",
   "execution_count": 10,
   "id": "blessed-might",
   "metadata": {},
   "outputs": [],
   "source": [
    "reviews = clean_data(reviews)"
   ]
  },
  {
   "cell_type": "markdown",
   "id": "precise-chemistry",
   "metadata": {},
   "source": [
    "### Plot of class distribution after discretization"
   ]
  },
  {
   "cell_type": "code",
   "execution_count": 11,
   "id": "destroyed-apache",
   "metadata": {},
   "outputs": [],
   "source": [
    "discrete_ratings_distribution = reviews[['Rating']].value_counts()"
   ]
  },
  {
   "cell_type": "code",
   "execution_count": 12,
   "id": "august-writing",
   "metadata": {},
   "outputs": [
    {
     "data": {
      "image/png": "[encoded data removed]",
      "text/plain": [
       "<Figure size 864x432 with 1 Axes>"
      ]
     },
     "metadata": {
      "needs_background": "light"
     },
     "output_type": "display_data"
    }
   ],
   "source": [
    "#plot of distribution of ratings\n",
    "labels = discrete_ratings_distribution.index.get_level_values(0).values\n",
    "distribution = discrete_ratings_distribution.values\n",
    "\n",
    "x = np.arange(len(labels))\n",
    "width = 0.35\n",
    "\n",
    "\n",
    "fig, ax = plt.subplots(figsize=(12,6))\n",
    "rect = ax.bar(x-width/2, distribution, width, label='Ratings Count', color='#008891')\n",
    "\n",
    "# Add text for labels, title and custom x-axis tick labels\n",
    "ax.set_ylabel('Count')\n",
    "ax.set_xlabel('Binned Ratings')\n",
    "ax.set_title('Discrete Rating Distribution')\n",
    "ax.set_xticks(x-0.18)\n",
    "ax.set_xticklabels(labels)\n",
    "ax.legend()\n",
    "\n",
    "def autolabel(rects):\n",
    "    for rect in rects:\n",
    "        height = rect.get_height()\n",
    "        ax.annotate('{}'.format(height),\n",
    "                    xy=(rect.get_x() + rect.get_width() / 2, height),\n",
    "                    xytext=(0, 3),  \n",
    "                    textcoords=\"offset points\",\n",
    "                    ha='center', va='bottom')\n",
    "\n",
    "\n",
    "autolabel(rect)\n",
    "fig.savefig('plots/Binned-Ratings-Distribution.png', facecolor='w')\n",
    "fig.tight_layout()\n",
    "plt.show()"
   ]
  },
  {
   "cell_type": "code",
   "execution_count": 13,
   "id": "threatened-habitat",
   "metadata": {},
   "outputs": [
    {
     "data": {
      "text/html": [
       "<div>\n",
       "<style scoped>\n",
       "    .dataframe tbody tr th:only-of-type {\n",
       "        vertical-align: middle;\n",
       "    }\n",
       "\n",
       "    .dataframe tbody tr th {\n",
       "        vertical-align: top;\n",
       "    }\n",
       "\n",
       "    .dataframe thead th {\n",
       "        text-align: right;\n",
       "    }\n",
       "</style>\n",
       "<table border=\"1\" class=\"dataframe\">\n",
       "  <thead>\n",
       "    <tr style=\"text-align: right;\">\n",
       "      <th></th>\n",
       "      <th>Review</th>\n",
       "      <th>Rating</th>\n",
       "    </tr>\n",
       "  </thead>\n",
       "  <tbody>\n",
       "    <tr>\n",
       "      <th>0</th>\n",
       "      <td>nice hotel expensive parking got good deal sta...</td>\n",
       "      <td>Good</td>\n",
       "    </tr>\n",
       "    <tr>\n",
       "      <th>1</th>\n",
       "      <td>ok nothing special charge diamond member hilto...</td>\n",
       "      <td>Needs Improvement</td>\n",
       "    </tr>\n",
       "    <tr>\n",
       "      <th>2</th>\n",
       "      <td>nice rooms not experience hotel monaco seattle...</td>\n",
       "      <td>Needs Improvement</td>\n",
       "    </tr>\n",
       "    <tr>\n",
       "      <th>3</th>\n",
       "      <td>unique great stay wonderful time hotel monaco ...</td>\n",
       "      <td>Amazing</td>\n",
       "    </tr>\n",
       "    <tr>\n",
       "      <th>4</th>\n",
       "      <td>great stay great stay went seahawk game awesom...</td>\n",
       "      <td>Amazing</td>\n",
       "    </tr>\n",
       "  </tbody>\n",
       "</table>\n",
       "</div>"
      ],
      "text/plain": [
       "                                              Review             Rating\n",
       "0  nice hotel expensive parking got good deal sta...               Good\n",
       "1  ok nothing special charge diamond member hilto...  Needs Improvement\n",
       "2  nice rooms not experience hotel monaco seattle...  Needs Improvement\n",
       "3  unique great stay wonderful time hotel monaco ...            Amazing\n",
       "4  great stay great stay went seahawk game awesom...            Amazing"
      ]
     },
     "execution_count": 13,
     "metadata": {},
     "output_type": "execute_result"
    }
   ],
   "source": [
    "reviews.head()"
   ]
  },
  {
   "cell_type": "markdown",
   "id": "genuine-google",
   "metadata": {},
   "source": [
    "### Feature Engineering"
   ]
  },
  {
   "cell_type": "code",
   "execution_count": 14,
   "id": "terminal-patrick",
   "metadata": {},
   "outputs": [],
   "source": [
    "import nltk\n",
    "import string\n",
    "from nltk.corpus import stopwords\n",
    "from nltk.tokenize import word_tokenize\n",
    "from nltk.stem.wordnet import WordNetLemmatizer\n",
    "from nltk.stem.porter import PorterStemmer"
   ]
  },
  {
   "cell_type": "code",
   "execution_count": 15,
   "id": "alive-survival",
   "metadata": {},
   "outputs": [],
   "source": [
    "def process_reviews(review):\n",
    "    stopwords_english = stopwords.words('english')\n",
    "    lemmatizer = WordNetLemmatizer()\n",
    "#     stemmer = PorterStemmer()\n",
    "#     snowball_stemmer = nltk.stem.SnowballStemmer('english')\n",
    "    \n",
    "    tokens = word_tokenize(review.lower())\n",
    "    clean_review = []\n",
    "    for word in tokens:\n",
    "        if (word not in stopwords_english and \n",
    "           word not in string.punctuation):\n",
    "            lemmatized_word = lemmatizer.lemmatize(word)            \n",
    "#             stemmed_word = stemmer.stem(word)\n",
    "            clean_review.append(lemmatized_word)\n",
    "    return ' '.join(clean_review)"
   ]
  },
  {
   "cell_type": "code",
   "execution_count": 16,
   "id": "starting-copper",
   "metadata": {},
   "outputs": [],
   "source": [
    "reviews['Review'] = reviews['Review'].apply(process_reviews)"
   ]
  },
  {
   "cell_type": "code",
   "execution_count": 17,
   "id": "miniature-journalism",
   "metadata": {},
   "outputs": [
    {
     "data": {
      "text/html": [
       "<div>\n",
       "<style scoped>\n",
       "    .dataframe tbody tr th:only-of-type {\n",
       "        vertical-align: middle;\n",
       "    }\n",
       "\n",
       "    .dataframe tbody tr th {\n",
       "        vertical-align: top;\n",
       "    }\n",
       "\n",
       "    .dataframe thead th {\n",
       "        text-align: right;\n",
       "    }\n",
       "</style>\n",
       "<table border=\"1\" class=\"dataframe\">\n",
       "  <thead>\n",
       "    <tr style=\"text-align: right;\">\n",
       "      <th></th>\n",
       "      <th>Review</th>\n",
       "      <th>Rating</th>\n",
       "    </tr>\n",
       "  </thead>\n",
       "  <tbody>\n",
       "    <tr>\n",
       "      <th>0</th>\n",
       "      <td>nice hotel expensive parking got good deal sta...</td>\n",
       "      <td>Good</td>\n",
       "    </tr>\n",
       "    <tr>\n",
       "      <th>1</th>\n",
       "      <td>ok nothing special charge diamond member hilto...</td>\n",
       "      <td>Needs Improvement</td>\n",
       "    </tr>\n",
       "    <tr>\n",
       "      <th>2</th>\n",
       "      <td>nice room experience hotel monaco seattle good...</td>\n",
       "      <td>Needs Improvement</td>\n",
       "    </tr>\n",
       "    <tr>\n",
       "      <th>3</th>\n",
       "      <td>unique great stay wonderful time hotel monaco ...</td>\n",
       "      <td>Amazing</td>\n",
       "    </tr>\n",
       "    <tr>\n",
       "      <th>4</th>\n",
       "      <td>great stay great stay went seahawk game awesom...</td>\n",
       "      <td>Amazing</td>\n",
       "    </tr>\n",
       "  </tbody>\n",
       "</table>\n",
       "</div>"
      ],
      "text/plain": [
       "                                              Review             Rating\n",
       "0  nice hotel expensive parking got good deal sta...               Good\n",
       "1  ok nothing special charge diamond member hilto...  Needs Improvement\n",
       "2  nice room experience hotel monaco seattle good...  Needs Improvement\n",
       "3  unique great stay wonderful time hotel monaco ...            Amazing\n",
       "4  great stay great stay went seahawk game awesom...            Amazing"
      ]
     },
     "execution_count": 17,
     "metadata": {},
     "output_type": "execute_result"
    }
   ],
   "source": [
    "reviews.head()"
   ]
  },
  {
   "cell_type": "code",
   "execution_count": 18,
   "id": "vital-photographer",
   "metadata": {},
   "outputs": [],
   "source": [
    "import joblib\n",
    "import random\n",
    "from sklearn.feature_extraction.text import TfidfVectorizer \n",
    "from sklearn.preprocessing import LabelEncoder"
   ]
  },
  {
   "cell_type": "markdown",
   "id": "genetic-combining",
   "metadata": {},
   "source": [
    "- uncomment when training a new vectorizer"
   ]
  },
  {
   "cell_type": "code",
   "execution_count": 33,
   "id": "accomplished-grocery",
   "metadata": {},
   "outputs": [],
   "source": [
    "vectorizer = TfidfVectorizer()\n",
    "vectorizer_model = vectorizer.fit(reviews['Review'])"
   ]
  },
  {
   "cell_type": "code",
   "execution_count": 34,
   "id": "spiritual-wrist",
   "metadata": {},
   "outputs": [
    {
     "data": {
      "text/plain": [
       "['saved_models/vectorizer.pkl']"
      ]
     },
     "execution_count": 34,
     "metadata": {},
     "output_type": "execute_result"
    }
   ],
   "source": [
    "#save the vectorizer\n",
    "joblib.dump(vectorizer_model, 'saved_models/vectorizer.pkl')"
   ]
  },
  {
   "cell_type": "code",
   "execution_count": 35,
   "id": "surprising-export",
   "metadata": {},
   "outputs": [],
   "source": [
    "vectorizer = joblib.load('saved_models/vectorizer.pkl')"
   ]
  },
  {
   "cell_type": "code",
   "execution_count": 36,
   "id": "compliant-pencil",
   "metadata": {},
   "outputs": [],
   "source": [
    "vectorizer_transform = vectorizer.transform(reviews['Review'])"
   ]
  },
  {
   "cell_type": "code",
   "execution_count": 37,
   "id": "limited-shipping",
   "metadata": {},
   "outputs": [
    {
     "name": "stdout",
     "output_type": "stream",
     "text": [
      "44842\n"
     ]
    }
   ],
   "source": [
    "print(len(vectorizer.get_feature_names()))"
   ]
  },
  {
   "cell_type": "code",
   "execution_count": 38,
   "id": "virgin-mitchell",
   "metadata": {},
   "outputs": [],
   "source": [
    "vectorized_reviews = pd.DataFrame(data = vectorizer_transform.toarray(), index=reviews.index, columns=vectorizer.get_feature_names())"
   ]
  },
  {
   "cell_type": "code",
   "execution_count": 75,
   "id": "advance-ballet",
   "metadata": {},
   "outputs": [],
   "source": [
    "random_features = random.sample(range(0, len(vectorizer.get_feature_names())), 10000)"
   ]
  },
  {
   "cell_type": "code",
   "execution_count": 76,
   "id": "eligible-wrong",
   "metadata": {},
   "outputs": [],
   "source": [
    "encoder = LabelEncoder()\n",
    "encoder.fit(reviews['Rating'])\n",
    "reviews['Rating'] = encoder.transform(reviews['Rating'])"
   ]
  },
  {
   "cell_type": "code",
   "execution_count": 77,
   "id": "standing-spanking",
   "metadata": {},
   "outputs": [
    {
     "data": {
      "text/html": [
       "<div>\n",
       "<style scoped>\n",
       "    .dataframe tbody tr th:only-of-type {\n",
       "        vertical-align: middle;\n",
       "    }\n",
       "\n",
       "    .dataframe tbody tr th {\n",
       "        vertical-align: top;\n",
       "    }\n",
       "\n",
       "    .dataframe thead th {\n",
       "        text-align: right;\n",
       "    }\n",
       "</style>\n",
       "<table border=\"1\" class=\"dataframe\">\n",
       "  <thead>\n",
       "    <tr style=\"text-align: right;\">\n",
       "      <th></th>\n",
       "      <th>Review</th>\n",
       "      <th>Rating</th>\n",
       "    </tr>\n",
       "  </thead>\n",
       "  <tbody>\n",
       "    <tr>\n",
       "      <th>0</th>\n",
       "      <td>nice hotel expensive parking got good deal sta...</td>\n",
       "      <td>1</td>\n",
       "    </tr>\n",
       "    <tr>\n",
       "      <th>1</th>\n",
       "      <td>ok nothing special charge diamond member hilto...</td>\n",
       "      <td>2</td>\n",
       "    </tr>\n",
       "    <tr>\n",
       "      <th>2</th>\n",
       "      <td>nice room experience hotel monaco seattle good...</td>\n",
       "      <td>2</td>\n",
       "    </tr>\n",
       "    <tr>\n",
       "      <th>3</th>\n",
       "      <td>unique great stay wonderful time hotel monaco ...</td>\n",
       "      <td>0</td>\n",
       "    </tr>\n",
       "    <tr>\n",
       "      <th>4</th>\n",
       "      <td>great stay great stay went seahawk game awesom...</td>\n",
       "      <td>0</td>\n",
       "    </tr>\n",
       "  </tbody>\n",
       "</table>\n",
       "</div>"
      ],
      "text/plain": [
       "                                              Review  Rating\n",
       "0  nice hotel expensive parking got good deal sta...       1\n",
       "1  ok nothing special charge diamond member hilto...       2\n",
       "2  nice room experience hotel monaco seattle good...       2\n",
       "3  unique great stay wonderful time hotel monaco ...       0\n",
       "4  great stay great stay went seahawk game awesom...       0"
      ]
     },
     "execution_count": 77,
     "metadata": {},
     "output_type": "execute_result"
    }
   ],
   "source": [
    "reviews.head()"
   ]
  },
  {
   "cell_type": "code",
   "execution_count": 83,
   "id": "compatible-packet",
   "metadata": {},
   "outputs": [],
   "source": [
    "x = vectorized_reviews.iloc[:, random_features]\n",
    "y = reviews['Rating']"
   ]
  },
  {
   "cell_type": "markdown",
   "id": "passing-tactics",
   "metadata": {},
   "source": [
    "### Feature Selection"
   ]
  },
  {
   "cell_type": "code",
   "execution_count": 84,
   "id": "requested-electronics",
   "metadata": {},
   "outputs": [],
   "source": [
    "# import sklearn\n",
    "# nltk.__version__"
   ]
  },
  {
   "cell_type": "code",
   "execution_count": 51,
   "id": "fluid-intake",
   "metadata": {},
   "outputs": [],
   "source": [
    "from sklearn.model_selection import train_test_split\n",
    "from sklearn.svm import LinearSVC\n",
    "from sklearn.metrics import accuracy_score\n",
    "from sklearn.feature_selection import SelectFromModel"
   ]
  },
  {
   "cell_type": "code",
   "execution_count": 85,
   "id": "listed-longer",
   "metadata": {},
   "outputs": [],
   "source": [
    "x_train, x_test, y_train, y_test = train_test_split(x, y,\n",
    "                                                   test_size=0.25,\n",
    "                                                   random_state=123)"
   ]
  },
  {
   "cell_type": "code",
   "execution_count": 86,
   "id": "recent-gates",
   "metadata": {},
   "outputs": [],
   "source": [
    "alphas = [0.2,0.3,0.4,0.5,1,2,3,4,5,6,7,8,9]"
   ]
  },
  {
   "cell_type": "code",
   "execution_count": 87,
   "id": "irish-copper",
   "metadata": {},
   "outputs": [],
   "source": [
    "score = dict()\n",
    "for alpha in alphas:\n",
    "    svm = LinearSVC(C=alpha, random_state=0, penalty='l1', dual=False, multi_class='ovr')\n",
    "    svm_fit = svm.fit(x_train, y_train)\n",
    "\n",
    "    svm_predict = svm_fit.predict(x_test)\n",
    "    \n",
    "    score[alpha] = accuracy_score(y_test, svm_predict)"
   ]
  },
  {
   "cell_type": "code",
   "execution_count": 89,
   "id": "disturbed-budapest",
   "metadata": {},
   "outputs": [
    {
     "data": {
      "image/png": "[encoded data removed]",
      "text/plain": [
       "<Figure size 864x360 with 1 Axes>"
      ]
     },
     "metadata": {
      "needs_background": "light"
     },
     "output_type": "display_data"
    }
   ],
   "source": [
    "fig, ax = plt.subplots(figsize=(12,5))\n",
    "ax = plt.plot(alphas, [score for score in score.values()])\n",
    "plt.ylabel('ROC AUC Score')\n",
    "plt.xlabel('Slack - C')\n",
    "plt.show()\n",
    "fig.savefig('plots/SVC_FeatureSelection.png')"
   ]
  },
  {
   "cell_type": "code",
   "execution_count": null,
   "id": "earned-conversion",
   "metadata": {},
   "outputs": [],
   "source": []
  }
 ],
 "metadata": {
  "kernelspec": {
   "display_name": "Python 3",
   "language": "python",
   "name": "python3"
  },
  "language_info": {
   "codemirror_mode": {
    "name": "ipython",
    "version": 3
   },
   "file_extension": ".py",
   "mimetype": "text/x-python",
   "name": "python",
   "nbconvert_exporter": "python",
   "pygments_lexer": "ipython3",
   "version": "3.7.7"
  }
 },
 "nbformat": 4,
 "nbformat_minor": 5
}
