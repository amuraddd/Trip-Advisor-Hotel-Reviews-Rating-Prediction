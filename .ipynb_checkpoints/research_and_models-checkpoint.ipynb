{
 "cells": [
  {
   "cell_type": "code",
   "execution_count": 69,
   "id": "exciting-confidence",
   "metadata": {},
   "outputs": [],
   "source": [
    "import pandas as pd\n",
    "import re\n",
    "import numpy as np\n",
    "import matplotlib.pyplot as plt\n",
    "%matplotlib inline"
   ]
  },
  {
   "cell_type": "code",
   "execution_count": 72,
   "id": "automatic-migration",
   "metadata": {},
   "outputs": [],
   "source": [
    "reviews = pd.read_csv('data/tripadvisor_hotel_reviews.csv')"
   ]
  },
  {
   "cell_type": "code",
   "execution_count": 73,
   "id": "grave-hungary",
   "metadata": {},
   "outputs": [
    {
     "data": {
      "text/html": [
       "<div>\n",
       "<style scoped>\n",
       "    .dataframe tbody tr th:only-of-type {\n",
       "        vertical-align: middle;\n",
       "    }\n",
       "\n",
       "    .dataframe tbody tr th {\n",
       "        vertical-align: top;\n",
       "    }\n",
       "\n",
       "    .dataframe thead th {\n",
       "        text-align: right;\n",
       "    }\n",
       "</style>\n",
       "<table border=\"1\" class=\"dataframe\">\n",
       "  <thead>\n",
       "    <tr style=\"text-align: right;\">\n",
       "      <th></th>\n",
       "      <th>Review</th>\n",
       "      <th>Rating</th>\n",
       "    </tr>\n",
       "  </thead>\n",
       "  <tbody>\n",
       "    <tr>\n",
       "      <th>0</th>\n",
       "      <td>nice hotel expensive parking got good deal sta...</td>\n",
       "      <td>4</td>\n",
       "    </tr>\n",
       "    <tr>\n",
       "      <th>1</th>\n",
       "      <td>ok nothing special charge diamond member hilto...</td>\n",
       "      <td>2</td>\n",
       "    </tr>\n",
       "    <tr>\n",
       "      <th>2</th>\n",
       "      <td>nice rooms not 4* experience hotel monaco seat...</td>\n",
       "      <td>3</td>\n",
       "    </tr>\n",
       "    <tr>\n",
       "      <th>3</th>\n",
       "      <td>unique, great stay, wonderful time hotel monac...</td>\n",
       "      <td>5</td>\n",
       "    </tr>\n",
       "    <tr>\n",
       "      <th>4</th>\n",
       "      <td>great stay great stay, went seahawk game aweso...</td>\n",
       "      <td>5</td>\n",
       "    </tr>\n",
       "  </tbody>\n",
       "</table>\n",
       "</div>"
      ],
      "text/plain": [
       "                                              Review  Rating\n",
       "0  nice hotel expensive parking got good deal sta...       4\n",
       "1  ok nothing special charge diamond member hilto...       2\n",
       "2  nice rooms not 4* experience hotel monaco seat...       3\n",
       "3  unique, great stay, wonderful time hotel monac...       5\n",
       "4  great stay great stay, went seahawk game aweso...       5"
      ]
     },
     "execution_count": 73,
     "metadata": {},
     "output_type": "execute_result"
    }
   ],
   "source": [
    "reviews.head()"
   ]
  },
  {
   "cell_type": "code",
   "execution_count": 74,
   "id": "governing-fundamentals",
   "metadata": {},
   "outputs": [
    {
     "name": "stdout",
     "output_type": "stream",
     "text": [
      "<class 'pandas.core.frame.DataFrame'>\n",
      "RangeIndex: 20491 entries, 0 to 20490\n",
      "Data columns (total 2 columns):\n",
      " #   Column  Non-Null Count  Dtype \n",
      "---  ------  --------------  ----- \n",
      " 0   Review  20491 non-null  object\n",
      " 1   Rating  20491 non-null  int64 \n",
      "dtypes: int64(1), object(1)\n",
      "memory usage: 320.3+ KB\n"
     ]
    }
   ],
   "source": [
    "reviews.info()"
   ]
  },
  {
   "cell_type": "code",
   "execution_count": 75,
   "id": "therapeutic-imagination",
   "metadata": {},
   "outputs": [
    {
     "name": "stdout",
     "output_type": "stream",
     "text": [
      "Rating\n",
      "5         9054\n",
      "4         6039\n",
      "3         2184\n",
      "2         1793\n",
      "1         1421\n",
      "dtype: int64\n"
     ]
    }
   ],
   "source": [
    "#distribution of ratings\n",
    "ratings_distribution = reviews[['Rating']].value_counts()\n",
    "print(ratings_distribution)"
   ]
  },
  {
   "cell_type": "markdown",
   "id": "authorized-stage",
   "metadata": {},
   "source": [
    "### Exploratory Data Analysis"
   ]
  },
  {
   "cell_type": "code",
   "execution_count": 76,
   "id": "rough-ireland",
   "metadata": {},
   "outputs": [
    {
     "data": {
      "image/png": "[encoded data removed]",
      "text/plain": [
       "<Figure size 864x432 with 1 Axes>"
      ]
     },
     "metadata": {
      "needs_background": "light"
     },
     "output_type": "display_data"
    }
   ],
   "source": [
    "#plot of distribution of ratings\n",
    "labels = ratings_distribution.index.get_level_values(0).values\n",
    "distribution = ratings_distribution.values\n",
    "\n",
    "x = np.arange(len(labels))\n",
    "width = 0.35\n",
    "\n",
    "\n",
    "fig, ax = plt.subplots(figsize=(12,6))\n",
    "rect = ax.bar(x-width/2, distribution, width, label='Ratings Count', color='#008891')\n",
    "\n",
    "# Add text for labels, title and custom x-axis tick labels\n",
    "ax.set_ylabel('Count')\n",
    "ax.set_xlabel('Ratings')\n",
    "ax.set_title('Rating Distribution')\n",
    "ax.set_xticks(x-0.18)\n",
    "ax.set_xticklabels(labels)\n",
    "ax.legend()\n",
    "\n",
    "def autolabel(rects):\n",
    "    for rect in rects:\n",
    "        height = rect.get_height()\n",
    "        ax.annotate('{}'.format(height),\n",
    "                    xy=(rect.get_x() + rect.get_width() / 2, height),\n",
    "                    xytext=(0, 3),  \n",
    "                    textcoords=\"offset points\",\n",
    "                    ha='center', va='bottom')\n",
    "\n",
    "\n",
    "autolabel(rect)\n",
    "fig.savefig('plots/Ratings-Distribution.png', facecolor='w')\n",
    "fig.tight_layout()\n",
    "plt.show()"
   ]
  },
  {
   "cell_type": "markdown",
   "id": "narrow-tourism",
   "metadata": {},
   "source": [
    "---------------\n",
    "### Discretize the ratings variable into bins to adjust the imbalanced class distribution issue  \n",
    "\n",
    "### Pre-processing Reviews\n",
    "----------------"
   ]
  },
  {
   "cell_type": "code",
   "execution_count": 77,
   "id": "comic-above",
   "metadata": {},
   "outputs": [],
   "source": [
    "regex = 'https|<|>|=|;|:|\\'|!|@|\\/|#|$|%|\\^|&|\\*|\\[|\\]|\\.|-|_|\\d+|\\+|\\?|Û|¢|\\(|\\)|\\||,'"
   ]
  },
  {
   "cell_type": "code",
   "execution_count": 78,
   "id": "international-cornell",
   "metadata": {},
   "outputs": [],
   "source": [
    "def discretize(rating):\n",
    "    \"\"\"\n",
    "    This function takes in a rating and based on the following scheme\n",
    "    it puts it into 3 bins:\n",
    "    1-2-3: Needs Improvement\n",
    "    4: Good\n",
    "    5: Amazing\n",
    "    \"\"\"\n",
    "    if rating<=3:\n",
    "        rating='Needs Improvement'\n",
    "    elif rating==4:\n",
    "        rating='Good'\n",
    "    elif rating==5:\n",
    "        rating='Amazing'\n",
    "    return rating\n",
    "\n",
    "\n",
    "def remove_patterns(review, regex='\\d+'):\n",
    "    \"\"\"\n",
    "    Given a review remove patterns which are unnecessary and do not add meaning to the review.\n",
    "    \"\"\"\n",
    "    review = re.sub(regex, ' ', str(review))\n",
    "    review = re.sub(' +', ' ', str(review))\n",
    "    review = review.lstrip().rstrip()\n",
    "\n",
    "    review = review.lower()\n",
    "\n",
    "    return review\n",
    "\n",
    "\n",
    "def clean_data(dataframe, cols=['Review', 'Rating']):\n",
    "    \"\"\"\n",
    "    Take in the dataframe remove unneded patterns by applying remove_patterns on the review column and return the dataframe.\n",
    "    \"\"\"\n",
    "    dataframe_2 = dataframe.copy()\n",
    "    \n",
    "    for col in cols:\n",
    "        if col == 'Review':\n",
    "            dataframe_2[col] = dataframe_2[col].apply(remove_patterns, regex=regex)\n",
    "        if col == 'Rating':\n",
    "            dataframe_2[col] = dataframe_2[col].apply(discretize)\n",
    "    \n",
    "    return dataframe_2"
   ]
  },
  {
   "cell_type": "code",
   "execution_count": 79,
   "id": "painful-ready",
   "metadata": {},
   "outputs": [],
   "source": [
    "reviews = clean_data(reviews)"
   ]
  },
  {
   "cell_type": "markdown",
   "id": "employed-sensitivity",
   "metadata": {},
   "source": [
    "### Plot of class distribution after discretization"
   ]
  },
  {
   "cell_type": "code",
   "execution_count": 80,
   "id": "novel-maryland",
   "metadata": {},
   "outputs": [],
   "source": [
    "discrete_ratings_distribution = reviews[['Rating']].value_counts()"
   ]
  },
  {
   "cell_type": "code",
   "execution_count": 81,
   "id": "obvious-grove",
   "metadata": {},
   "outputs": [
    {
     "data": {
      "image/png": "[encoded data removed]",
      "text/plain": [
       "<Figure size 864x432 with 1 Axes>"
      ]
     },
     "metadata": {
      "needs_background": "light"
     },
     "output_type": "display_data"
    }
   ],
   "source": [
    "#plot of distribution of ratings\n",
    "labels = discrete_ratings_distribution.index.get_level_values(0).values\n",
    "distribution = discrete_ratings_distribution.values\n",
    "\n",
    "x = np.arange(len(labels))\n",
    "width = 0.35\n",
    "\n",
    "\n",
    "fig, ax = plt.subplots(figsize=(12,6))\n",
    "rect = ax.bar(x-width/2, distribution, width, label='Ratings Count', color='#008891')\n",
    "\n",
    "# Add text for labels, title and custom x-axis tick labels\n",
    "ax.set_ylabel('Count')\n",
    "ax.set_xlabel('Binned Ratings')\n",
    "ax.set_title('Discrete Rating Distribution')\n",
    "ax.set_xticks(x-0.18)\n",
    "ax.set_xticklabels(labels)\n",
    "ax.legend()\n",
    "\n",
    "def autolabel(rects):\n",
    "    for rect in rects:\n",
    "        height = rect.get_height()\n",
    "        ax.annotate('{}'.format(height),\n",
    "                    xy=(rect.get_x() + rect.get_width() / 2, height),\n",
    "                    xytext=(0, 3),  \n",
    "                    textcoords=\"offset points\",\n",
    "                    ha='center', va='bottom')\n",
    "\n",
    "\n",
    "autolabel(rect)\n",
    "fig.savefig('plots/Binned-Ratings-Distribution.png', facecolor='w')\n",
    "fig.tight_layout()\n",
    "plt.show()"
   ]
  },
  {
   "cell_type": "code",
   "execution_count": 82,
   "id": "micro-singer",
   "metadata": {},
   "outputs": [
    {
     "data": {
      "text/html": [
       "<div>\n",
       "<style scoped>\n",
       "    .dataframe tbody tr th:only-of-type {\n",
       "        vertical-align: middle;\n",
       "    }\n",
       "\n",
       "    .dataframe tbody tr th {\n",
       "        vertical-align: top;\n",
       "    }\n",
       "\n",
       "    .dataframe thead th {\n",
       "        text-align: right;\n",
       "    }\n",
       "</style>\n",
       "<table border=\"1\" class=\"dataframe\">\n",
       "  <thead>\n",
       "    <tr style=\"text-align: right;\">\n",
       "      <th></th>\n",
       "      <th>Review</th>\n",
       "      <th>Rating</th>\n",
       "    </tr>\n",
       "  </thead>\n",
       "  <tbody>\n",
       "    <tr>\n",
       "      <th>0</th>\n",
       "      <td>nice hotel expensive parking got good deal sta...</td>\n",
       "      <td>Good</td>\n",
       "    </tr>\n",
       "    <tr>\n",
       "      <th>1</th>\n",
       "      <td>ok nothing special charge diamond member hilto...</td>\n",
       "      <td>Needs Improvement</td>\n",
       "    </tr>\n",
       "    <tr>\n",
       "      <th>2</th>\n",
       "      <td>nice rooms not experience hotel monaco seattle...</td>\n",
       "      <td>Needs Improvement</td>\n",
       "    </tr>\n",
       "    <tr>\n",
       "      <th>3</th>\n",
       "      <td>unique great stay wonderful time hotel monaco ...</td>\n",
       "      <td>Amazing</td>\n",
       "    </tr>\n",
       "    <tr>\n",
       "      <th>4</th>\n",
       "      <td>great stay great stay went seahawk game awesom...</td>\n",
       "      <td>Amazing</td>\n",
       "    </tr>\n",
       "  </tbody>\n",
       "</table>\n",
       "</div>"
      ],
      "text/plain": [
       "                                              Review             Rating\n",
       "0  nice hotel expensive parking got good deal sta...               Good\n",
       "1  ok nothing special charge diamond member hilto...  Needs Improvement\n",
       "2  nice rooms not experience hotel monaco seattle...  Needs Improvement\n",
       "3  unique great stay wonderful time hotel monaco ...            Amazing\n",
       "4  great stay great stay went seahawk game awesom...            Amazing"
      ]
     },
     "execution_count": 82,
     "metadata": {},
     "output_type": "execute_result"
    }
   ],
   "source": [
    "reviews.head()"
   ]
  },
  {
   "cell_type": "markdown",
   "id": "missing-alignment",
   "metadata": {},
   "source": [
    "### Feature Engineering"
   ]
  },
  {
   "cell_type": "code",
   "execution_count": null,
   "id": "residential-ceiling",
   "metadata": {},
   "outputs": [],
   "source": []
  }
 ],
 "metadata": {
  "kernelspec": {
   "display_name": "Python 3",
   "language": "python",
   "name": "python3"
  },
  "language_info": {
   "codemirror_mode": {
    "name": "ipython",
    "version": 3
   },
   "file_extension": ".py",
   "mimetype": "text/x-python",
   "name": "python",
   "nbconvert_exporter": "python",
   "pygments_lexer": "ipython3",
   "version": "3.7.7"
  }
 },
 "nbformat": 4,
 "nbformat_minor": 5
}
